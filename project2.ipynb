{
  "nbformat": 4,
  "nbformat_minor": 0,
  "metadata": {
    "colab": {
      "name": "project2.ipynb",
      "provenance": [],
      "collapsed_sections": [],
      "include_colab_link": true
    },
    "kernelspec": {
      "name": "python3",
      "display_name": "Python 3"
    },
    "language_info": {
      "name": "python"
    }
  },
  "cells": [
    {
      "cell_type": "markdown",
      "metadata": {
        "id": "view-in-github",
        "colab_type": "text"
      },
      "source": [
        "<a href=\"https://colab.research.google.com/github/sunnykvofm1994/SesnorAndPlannig/blob/main/project2.ipynb\" target=\"_parent\"><img src=\"https://colab.research.google.com/assets/colab-badge.svg\" alt=\"Open In Colab\"/></a>"
      ]
    },
    {
      "cell_type": "code",
      "source": [
        "import numpy as np\n",
        "import pandas as pd\n",
        "from numpy.linalg import inv\n",
        "import math\n",
        "import matplotlib.pyplot as plt"
      ],
      "metadata": {
        "id": "Z_2TKUEprPD9"
      },
      "execution_count": null,
      "outputs": []
    },
    {
      "cell_type": "code",
      "source": [
        "#Read Input data File\n",
        "measure_giv = pd.read_csv('data_ekf.txt',header=None, delim_whitespace = True, skiprows=1)\n",
        "# print(measure_giv)"
      ],
      "metadata": {
        "id": "E7aKn2DqrUAk"
      },
      "execution_count": null,
      "outputs": []
    },
    {
      "cell_type": "code",
      "source": [
        "############ for copying initial readings from first row of input file.###################\n",
        "\n",
        "prev_time = 1477010443000000/1000000.0                                               #time in microsecond\n",
        "global x\n",
        "x = np.array([ [0.312242], [0.5803398], [0], [0], [0], [0] ])                        #x, y, vx, vy, phi, w\n",
        "\n",
        "############ Initialize variables for storing ground truth and RMSE values ###################3\n",
        "ground_truth = np.zeros([6, 1])\n"
      ],
      "metadata": {
        "id": "il1kFsJlrlKl"
      },
      "execution_count": null,
      "outputs": []
    },
    {
      "cell_type": "code",
      "source": [
        "############################################### Initialize matrices P and A #################################################\n",
        "P = np.array([\n",
        "        [1, 0, 0, 0, 0, 0],\n",
        "        [0, 1, 0, 0, 0, 0],\n",
        "        [0, 0, 1000, 0, 0, 0],\n",
        "        [0, 0, 0, 1000, 0, 0],\n",
        "        [0, 0, 0, 0, 1000, 0],\n",
        "        [0, 0, 0, 0, 0, 1000]])                                                       # 1000 just taken randomly as any value >>1\n",
        "F = np.array([\n",
        "        [1.0, 0, 1.0, 0, 0, 0],\n",
        "        [0, 1.0, 0, 1.0, 0, 0],\n",
        "        [0, 0, 1.0, 0, 0, 0],\n",
        "        [0, 0, 0, 1.0, 0, 0],\n",
        "        [0, 0, 0, 0, 1.0, 1.0],\n",
        "        [0, 0, 0, 0, 0, 1.0]])                                                       # state matrix\n",
        "\n",
        "var_x = 9\n",
        "var_y = 9\n",
        "var_alpha = 9\n",
        "\n",
        "Q = np.zeros([6, 6])                                                                 # initialized as zero matrix later will be updated"
      ],
      "metadata": {
        "id": "eS-2lScNrlyR"
      },
      "execution_count": null,
      "outputs": []
    },
    {
      "cell_type": "code",
      "source": [
        "H_lidar = np.array([\n",
        "        [1.0, 0, 0, 0, 0, 0],\n",
        "        [0, 1.0, 0, 0, 0, 0]\n",
        "        ])\n",
        "I = np.identity(6)\n",
        "z_lidar = np.zeros([2, 1])\n",
        "R_lidar = np.array([\n",
        "        [0.0225, 0],\n",
        "        [0, 0.0225]\n",
        "        ])"
      ],
      "metadata": {
        "id": "jRqvDfp2l8ch"
      },
      "execution_count": null,
      "outputs": []
    },
    {
      "cell_type": "code",
      "source": [
        "##################################################### jacobian matrix for radar ####################################\n",
        "def H_j(x):                                                                         \n",
        "  x_t = x[0][0]\n",
        "  y_t = x[1][0]\n",
        "  xdot = x[2][0]\n",
        "  ydot = x[3][0]\n",
        "\n",
        "  H_j_radar = np.array([[x_t/pow((x_t**2+y_t**2), 1/2), y_t/pow((x_t**2+y_t**2),1/2), 0, 0, 0, 0],\n",
        "                             [(y_t*(xdot*y_t-ydot*x_t)/pow((x_t**2+y_t**2),3/2)), (x_t*(ydot*x_t-xdot*y_t)/pow((x_t**2+y_t**2),3/2)), x_t/pow((x_t**2+y_t**2),1/2), y_t/pow((x_t**2+y_t**2),1/2), 0, 0],\n",
        "                             [0, 0, 0, 0, 1, 0]])\n",
        "  return  H_j_radar\n",
        " \n",
        "z_radar = np.zeros([3, 1])\n",
        "R_radar = np.array([\n",
        "        [0.05, 0, 0],\n",
        "        [0, 0.05, 0],\n",
        "        [0, 0, 0.05]\n",
        "        ])"
      ],
      "metadata": {
        "id": "Q23lhnZqry8o"
      },
      "execution_count": null,
      "outputs": []
    },
    {
      "cell_type": "code",
      "source": [
        " ############################################## prediction using EKF ##################################\n",
        "def EKF_prediction():                                                               \n",
        "                                                                                          \n",
        "  global x, P, Q\n",
        "  x = np.matmul(F, x)\n",
        "  Ft = np.transpose(F)\n",
        "  P = np.add(np.matmul(F, np.matmul(P, Ft)), Q)"
      ],
      "metadata": {
        "id": "AdO3oijbr5Dh"
      },
      "execution_count": null,
      "outputs": []
    },
    {
      "cell_type": "code",
      "source": [
        "################################################## EKF  sensor measurement update ###############################################\n",
        "\n",
        "pi = math.pi\n",
        "w_radar = np.array([\n",
        "        [0.5], \n",
        "        [0.5],\n",
        "        [2.05]])\n",
        "\n",
        "w_lidar = np.array([\n",
        "        [0.05], \n",
        "        [0.05]])\n",
        "def EKF_update(z, sensor):\n",
        "  global x, P  \n",
        "    \n",
        "  if sensor == 'R':\n",
        "    H = H_j(x)\n",
        "    z_predict = np.add(np.matmul(H, x),w_radar)\n",
        "  else:\n",
        "    H = H_lidar\n",
        "    z_predict = np.add(np.matmul(H, x),w_lidar)                                                                                 # Measurement update step\n",
        "  \n",
        "  Y = np.subtract(z,z_predict)\n",
        "\n",
        "  if sensor == 'R':\n",
        "    while(Y[2][0] > pi):\n",
        "      Y[2][0] = Y[2][0] -2*pi\n",
        "    while(Y[2][0] < -pi):\n",
        "      Y[2][0] = Y[2][0] + 2*pi\n",
        "  \n",
        "\n",
        "  Ht = np.transpose(H)\n",
        "  S = np.add(np.matmul(H, np.matmul(P, Ht)), R)\n",
        "  PHt = np.matmul(P, Ht)\n",
        "  Si = inv(S)\n",
        "  K = np.matmul(PHt, Si)\n",
        "  \n",
        "                                                                                                         \n",
        "                                                                                                         # New state\n",
        "  x = np.add(x, np.matmul(K, Y))\n",
        "  P = np.matmul(np.subtract(I ,np.matmul(K, H)), P)\n"
      ],
      "metadata": {
        "id": "_ljss5-ksCQ3"
      },
      "execution_count": null,
      "outputs": []
    },
    {
      "cell_type": "code",
      "source": [
        "############################################## iterating and updating sensor data ##################################################\n",
        "\n",
        "\n",
        "for i in range (len(measure_giv)):\n",
        "    new_measure = measure_giv.iloc[i, :].values\n",
        "    if new_measure[0] == 'L':\n",
        "                                                      # Calculate Timestamp and higher order time variables\n",
        "      cur_time = new_measure[3]/1000000.0\n",
        "    if new_measure[0] == 'R':\n",
        "      cur_time = new_measure[4]/1000000.0\n",
        "\n",
        "    dt = cur_time - prev_time\n",
        "    prev_time = cur_time\n",
        "    \n",
        "    dt_2 = dt * dt\n",
        "    dt_3 = dt_2 * dt\n",
        "    dt_4 = dt_3 * dt\n",
        "\n",
        "                                                       # Update matrix F with dt value\n",
        "    F[0][2] = dt\n",
        "    F[1][3] = dt\n",
        "    F[4][5] = dt\n",
        "\n",
        "                                                       #Updating Q matrix\n",
        "    Q[0][0] = dt_4/4*var_x\n",
        "    Q[0][2] = dt_3/2*var_x\n",
        "    Q[1][1] = dt_4/4*var_y\n",
        "    Q[1][3] = dt_3/2*var_y\n",
        "    Q[2][0] = dt_3/2*var_x\n",
        "    Q[2][2] = dt_2*var_x\n",
        "    Q[3][1] = dt_3/2*var_y\n",
        "    Q[3][3] = dt_2*var_y\n",
        "    Q[4][4] = dt_4/4*var_alpha\n",
        "    Q[4][5] = dt_3/2*var_alpha\n",
        "    Q[5][4] = dt_3/2*var_alpha\n",
        "    Q[5][5] = dt_2*var_alpha\n",
        "\n",
        "\n",
        "    if new_measure[0] == 'L':\n",
        "                                                      #Updating lidar sensor readings\n",
        "      z_lidar[0][0] = new_measure[1]\n",
        "      z_lidar[1][0] = new_measure[2]\n",
        "\n",
        "                                                      #Collecting ground truths\n",
        "      ground_truth[0] = new_measure[4]\n",
        "      ground_truth[1] = new_measure[5]\n",
        "      ground_truth[2] = new_measure[6]\n",
        "      ground_truth[3] = new_measure[7]\n",
        "      ground_truth[4] = new_measure[8]\n",
        "      ground_truth[5] = new_measure[9]\n",
        "\n",
        "      R = R_lidar\n",
        "\n",
        "      EKF_prediction()\n",
        "      EKF_update(z_lidar, new_measure[0])\n",
        "      \n",
        "      print(\"-------------------------------------------------------------------------\")\n",
        "     # print('{:10s} | {:8.3f} | {:8.3f}'.format(\"lidar values:\", z_lidar[0][0],z_lidar[1][0]))\n",
        "      print('{:10s} | {:8.3f} | {:8.3f} | {:8.3f} | {:8.3f} | {:8.3f} | {:8.3f} |'.format(\"Lidar Estimated values:\", x[0][0], x[1][0], x[2][0], x[3][0], x[4][0], x[5][0] ))\n",
        "      print('{:10s} | {:8.3f} | {:8.3f} | {:8.3f} | {:8.3f} | {:8.3f} | {:8.3f} |'.format(\"Ground Truth  :\", ground_truth[0][0], ground_truth[1][0], ground_truth[2][0], ground_truth[3][0], ground_truth[4][0], ground_truth[5][0]))\n",
        "      # print('Lidar Estimated X: ', x)\n",
        "      # print('Lidar Ground Truth X', ground_truth)\n",
        "\n",
        "    elif new_measure[0] == 'R':\n",
        "                                                                          #Updating radar sensor readings\n",
        "      z_radar[0][0] = new_measure[1]                                      #r\n",
        "      z_radar[1][0] = new_measure[3]                                      #rdot\n",
        "      z_radar[2][0] = new_measure[2]                                      #phi\n",
        "\n",
        "                                                                          #Collecting ground truths\n",
        "      ground_truth[0] = new_measure[5]\n",
        "      ground_truth[1] = new_measure[6]\n",
        "      ground_truth[2] = new_measure[7]\n",
        "      ground_truth[3] = new_measure[8]\n",
        "      ground_truth[4] = new_measure[9]\n",
        "      ground_truth[5] = new_measure[10]\n",
        "\n",
        "      R = R_radar\n",
        "\n",
        "      EKF_prediction()\n",
        "      EKF_update(z_radar, new_measure[0])\n",
        "      #print(z_radar)\n",
        "      print(\"-------------------------------------------------------------------------\")\n",
        "      print('{:10s} | {:8.3f} | {:8.3f} | {:8.3f} | {:8.3f} | {:8.3f} | {:8.3f} |'.format(\"Radar Estimate:\", x[0][0], x[1][0], x[2][0], x[3][0], x[4][0], x[5][0] ))\n",
        "      print('{:10s} | {:8.3f} | {:8.3f} | {:8.3f} | {:8.3f} | {:8.3f} | {:8.3f} |'.format(\"Ground Truth  :\", ground_truth[0][0], ground_truth[1][0], ground_truth[2][0], ground_truth[3][0], ground_truth[4][0], ground_truth[5][0]))\n",
        "    #Commented\n",
        "      '''plt.figure()\n",
        "      plt.plot(ground_truth)\n",
        "      plt.legend([\"ground truth\"])\n",
        "      plt.plot(z_radar)\n",
        "      plt.legend([\"radar predicted values\"])\n",
        "      plt.show()'''\n",
        "     # k1=[x[0][0], x[1][0], x[2][0], x[3][0], x[4][0], x[5][0]]\n",
        "      #k=[z_radar,new_measure,z_lidar,ground_truth]\n",
        "      #plt.figure()\n",
        "      #plt.plot(x[0],x[1],label='estmates')\n",
        "      #plt.plot(ground_truth,)\n",
        "    "
      ],
      "metadata": {
        "id": "AbhDR9vAsPL3"
      },
      "execution_count": null,
      "outputs": []
    },
    {
      "cell_type": "code",
      "source": [
        ""
      ],
      "metadata": {
        "id": "dP2i8bvpxhoE"
      },
      "execution_count": null,
      "outputs": []
    }
  ]
}